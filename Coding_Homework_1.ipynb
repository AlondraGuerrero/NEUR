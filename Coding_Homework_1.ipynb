{
  "nbformat": 4,
  "nbformat_minor": 0,
  "metadata": {
    "colab": {
      "provenance": [],
      "include_colab_link": true
    },
    "kernelspec": {
      "name": "python3",
      "display_name": "Python 3"
    },
    "language_info": {
      "name": "python"
    }
  },
  "cells": [
    {
      "cell_type": "markdown",
      "metadata": {
        "id": "view-in-github",
        "colab_type": "text"
      },
      "source": [
        "<a href=\"https://colab.research.google.com/github/AlondraGuerrero/NEUR-265/blob/main/Coding_Homework_1.ipynb\" target=\"_parent\"><img src=\"https://colab.research.google.com/assets/colab-badge.svg\" alt=\"Open In Colab\"/></a>"
      ]
    },
    {
      "cell_type": "markdown",
      "source": [
        "# Coding Homework #1\n",
        "\n",
        "**Instructions** (Note: it is very important you follow these instructions in order!)\n",
        "\n",
        "1. Run the first *Code Cell* below.\n",
        "\n",
        "2. Make a *Markdown Cell* that contains the following information:\n",
        "  * Your name (small header)\n",
        "  * The name of this class (italicized)\n",
        "  * The date (bolded)\n",
        "\n",
        "3. **Important!**: For each *Code Cell* that you create, make at least one line of code with a `#` in front of it that describes what your code does.\n",
        "\n",
        "4. Make a *Code Cell* that turns `v_rest1.csv` into a `Pandas DataFrame` called `pandas_data1`, and `v_rest2.csv` into a `Pandas DataFrame` called `pandas_data2`. Recall that we covered how to import `.csv` files as `Pandas DataFrames` in our in-class coding activity on January 30th. \n",
        "\n",
        "5. Make a *Code Cell* that converts `pandas_data1` into a `list` variable called `data1`, and converts `pandas_data2` into a `list` variable called `data2`. The following syntax is an example of how to do this:\n",
        "\n",
        "\n",
        "```\n",
        "data1 = pandas_data1.values.tolist()\n",
        "```\n",
        "\n",
        "6. When you convert a `Pandas DataFrame` into a `list`, it brackets each individual element - we don't want that! To get around this issue, make a *Code Cell* that flattens `data1` and `data2` using the `numpy.squeeze()` function. Your first *Code Cell* imported the `NumPy` module as `np`, so we can use the following code to flatten `data1`:\n",
        "\n",
        "\n",
        "```\n",
        "data1 = np.squeeze(data1)\n",
        "```\n",
        "&nbsp;&nbsp;&nbsp;&nbsp;&nbsp;&nbsp;&nbsp;&nbsp;&nbsp;&nbsp;Repeat this for `data2`.\n",
        "\n",
        "7. Make a *Code Cell* that prints the length of `data1`.\n",
        "\n",
        "8. Make a *Code Cell* that prints the 5th, 6th, 7th, and 8th elements of `data2`.\n",
        "\n",
        "9. Make a *Code Cell* that prints the second-to-last and last elements of `data1` (use negative indexing).\n",
        "\n",
        "10. Make a *Code Cell* that prints the `type` of `data2` by using the `type` function.\n",
        "\n",
        "11. The first *Code Cell* you ran imports a module called `matplotlib`. In a new *Code Cell*, use `matplotlib` to make a histogram of `data1`. You can use the syntax `plt.hist()` to do this (remember that the variable you are applying the function to goes inside of the parentheses). \n",
        "\n",
        "12. In a new *Code Cell*, re-make your histogram and use the `plt.xlabel()` and `plt.ylabel()` functions to label your axes.\n",
        "\n",
        "13. In a new *Code Cell*, follow the instructions in steps 11 and 12 to make another histogram with axis labels for `data2`. \n",
        "\n",
        "14. In a new *Markdown Cell*, write a brief description of any differences that you observe between your two histograms. Does one group of cells seem to have a higher/lower resting membrane potential than the other group of cells?\n",
        "\n",
        "15. In a new *Code Cell*, create a new variable called `data3`. Let `data3` be a list containing both `data1` and `data2`. \n",
        "\n",
        "16. Make a *Code Cell* that prints the last element of `data2`. You must index `data3` to do this (hint: we covered this in our in-class coding activity on February 1st).\n",
        "\n",
        "17. Save a copy of this notebook to your GitHub repo with the title \"coding_homework_1.pynb\". "
      ],
      "metadata": {
        "id": "R8xCV2iP1KZ_"
      }
    },
    {
      "cell_type": "code",
      "source": [
        "# Import matplotlib, pandas, and numpy\n",
        "\n",
        "from matplotlib import pyplot as plt\n",
        "\n",
        "import pandas as pd\n",
        "\n",
        "import numpy as np"
      ],
      "metadata": {
        "id": "48IPWJIt59-Y"
      },
      "execution_count": 3,
      "outputs": []
    },
    {
      "cell_type": "markdown",
      "source": [
        "####Alondra Guerrero \n",
        "\n",
        "*Intro to Neural Data Analysis (NEUR 265)*\n",
        "\n",
        "**Feb 8, 2023**"
      ],
      "metadata": {
        "id": "P7BiRxokeXE_"
      }
    },
    {
      "cell_type": "code",
      "source": [
        "# Converting csv files into Pandas DataFrame\n",
        "# Ignore the printing I just wanted to make sure it wokred \n",
        "\n",
        "url1 = 'https://raw.githubusercontent.com/AlondraGuerrero/NEUR-265/main/vrest_1.csv'\n",
        "pandas_data1 = pd.read_csv(url1)\n",
        "url2 = 'https://raw.githubusercontent.com/AlondraGuerrero/NEUR-265/main/vrest_2.csv'\n",
        "pandas_data2 = pd.read_csv(url2)\n",
        "print(pandas_data1)\n",
        "print(pandas_data2)\n"
      ],
      "metadata": {
        "colab": {
          "base_uri": "https://localhost:8080/"
        },
        "id": "_W7EUexZwOFe",
        "outputId": "5371c56c-cf0a-4c86-8017-ceabc413cbb2"
      },
      "execution_count": 4,
      "outputs": [
        {
          "output_type": "stream",
          "name": "stdout",
          "text": [
            "    -69.22073059\n",
            "0     -71.383307\n",
            "1     -72.298022\n",
            "2     -66.794791\n",
            "3     -74.542526\n",
            "4     -70.243994\n",
            "5     -69.673433\n",
            "6     -74.639148\n",
            "7     -67.736253\n",
            "8     -71.714853\n",
            "9     -74.969964\n",
            "10    -68.729874\n",
            "11    -68.352065\n",
            "    -55.15944841\n",
            "0     -65.250195\n",
            "1     -63.726662\n",
            "2     -59.537596\n",
            "3     -71.218601\n",
            "4     -73.685368\n",
            "5     -74.114182\n",
            "6     -73.817981\n",
            "7     -62.905825\n",
            "8     -60.208926\n",
            "9     -74.805203\n",
            "10    -82.651599\n",
            "11    -76.165727\n"
          ]
        }
      ]
    },
    {
      "cell_type": "code",
      "source": [
        "# Converted the pandas_data1 into a list (data1), did the same thing with pandas_data2 into a list (data2)\n",
        "data1 = pandas_data1.values.tolist()\n",
        "data2 = pandas_data2.values.tolist()\n",
        "print(data1)\n",
        "print(data2)"
      ],
      "metadata": {
        "colab": {
          "base_uri": "https://localhost:8080/"
        },
        "id": "TAcH-fcY4Jda",
        "outputId": "749e5085-9c2a-4d6f-ab86-00fadf167649"
      },
      "execution_count": 5,
      "outputs": [
        {
          "output_type": "stream",
          "name": "stdout",
          "text": [
            "[[-71.38330688], [-72.2980217], [-66.79479137], [-74.54252555], [-70.24399376], [-69.6734333], [-74.63914829], [-67.73625292], [-71.71485273], [-74.96996377], [-68.72987366], [-68.35206535]]\n",
            "[[-65.25019455], [-63.72666232], [-59.53759575], [-71.21860097], [-73.68536822], [-74.11418152], [-73.8179813], [-62.90582476], [-60.20892639], [-74.80520283], [-82.65159946], [-76.16572698]]\n"
          ]
        }
      ]
    },
    {
      "cell_type": "code",
      "source": [
        "# Flattens data1 and data2. Each individual element no longer has its own braket. \n",
        "data1 = np.squeeze(data1)\n",
        "data2 = np.squeeze(data2)\n",
        "print(data1)\n",
        "print(data2)"
      ],
      "metadata": {
        "colab": {
          "base_uri": "https://localhost:8080/"
        },
        "id": "4wUqlENt5Qaz",
        "outputId": "f74a9138-8713-4ad9-89d7-f6013ab12c76"
      },
      "execution_count": 6,
      "outputs": [
        {
          "output_type": "stream",
          "name": "stdout",
          "text": [
            "[-71.38330688 -72.2980217  -66.79479137 -74.54252555 -70.24399376\n",
            " -69.6734333  -74.63914829 -67.73625292 -71.71485273 -74.96996377\n",
            " -68.72987366 -68.35206535]\n",
            "[-65.25019455 -63.72666232 -59.53759575 -71.21860097 -73.68536822\n",
            " -74.11418152 -73.8179813  -62.90582476 -60.20892639 -74.80520283\n",
            " -82.65159946 -76.16572698]\n"
          ]
        }
      ]
    },
    {
      "cell_type": "code",
      "source": [
        "# Prints the length of data1\n",
        "len(data1)"
      ],
      "metadata": {
        "colab": {
          "base_uri": "https://localhost:8080/"
        },
        "id": "uWIhUTam5ivt",
        "outputId": "3fb57d51-56f2-4e23-f3c2-ad00cf4a0004"
      },
      "execution_count": 7,
      "outputs": [
        {
          "output_type": "execute_result",
          "data": {
            "text/plain": [
              "12"
            ]
          },
          "metadata": {},
          "execution_count": 7
        }
      ]
    },
    {
      "cell_type": "code",
      "source": [
        "# Prints 5th, 6th, 7th, and 8th element of data2\n",
        "print(data2[4:8])"
      ],
      "metadata": {
        "colab": {
          "base_uri": "https://localhost:8080/"
        },
        "id": "5F9ghqVO5_77",
        "outputId": "5cbf8ecc-4a41-46ce-840c-c3b7a0b82b54"
      },
      "execution_count": 8,
      "outputs": [
        {
          "output_type": "stream",
          "name": "stdout",
          "text": [
            "[-73.68536822 -74.11418152 -73.8179813  -62.90582476]\n"
          ]
        }
      ]
    },
    {
      "cell_type": "code",
      "source": [
        "# Prints second to last and last elements of data 1 using negative indexing\n",
        "print(data1[:-2-1:-1])"
      ],
      "metadata": {
        "id": "l80OF7W77iDW",
        "colab": {
          "base_uri": "https://localhost:8080/"
        },
        "outputId": "65bc8b1f-cf46-49e9-cf68-9414c856fc4f"
      },
      "execution_count": 9,
      "outputs": [
        {
          "output_type": "stream",
          "name": "stdout",
          "text": [
            "[-68.35206535 -68.72987366]\n"
          ]
        }
      ]
    },
    {
      "cell_type": "code",
      "source": [
        "# Codes for the type of data \n",
        "print(data2.dtype)"
      ],
      "metadata": {
        "colab": {
          "base_uri": "https://localhost:8080/"
        },
        "id": "tyfaNCMZraBl",
        "outputId": "06cea8de-15f0-4d09-e11d-c3b7eac653de"
      },
      "execution_count": 10,
      "outputs": [
        {
          "output_type": "stream",
          "name": "stdout",
          "text": [
            "float64\n"
          ]
        }
      ]
    },
    {
      "cell_type": "code",
      "source": [
        "# Makes a histogram of data1\n",
        "plt.hist(data1)"
      ],
      "metadata": {
        "colab": {
          "base_uri": "https://localhost:8080/",
          "height": 352
        },
        "id": "r1HRPPyktP4q",
        "outputId": "a820d480-f722-47e7-993e-69669c47ea08"
      },
      "execution_count": 11,
      "outputs": [
        {
          "output_type": "execute_result",
          "data": {
            "text/plain": [
              "(array([3., 0., 0., 2., 1., 1., 1., 1., 2., 1.]),\n",
              " array([-74.96996377, -74.15244653, -73.33492929, -72.51741205,\n",
              "        -71.69989481, -70.88237757, -70.06486033, -69.24734309,\n",
              "        -68.42982585, -67.61230861, -66.79479137]),\n",
              " <a list of 10 Patch objects>)"
            ]
          },
          "metadata": {},
          "execution_count": 11
        },
        {
          "output_type": "display_data",
          "data": {
            "text/plain": [
              "<Figure size 432x288 with 1 Axes>"
            ],
            "image/png": "[encoded data removed]"
          },
          "metadata": {
            "needs_background": "light"
          }
        }
      ]
    },
    {
      "cell_type": "code",
      "source": [
        "# Adds labelled axis to the histogram with data1\n",
        "plt.hist(data1)\n",
        "plt.xlabel('Membrane Potential (mV)')\n",
        "plt.ylabel('Number of Cells')"
      ],
      "metadata": {
        "colab": {
          "base_uri": "https://localhost:8080/",
          "height": 296
        },
        "id": "VsXhsFFwtpx9",
        "outputId": "af6c054e-bd3d-4180-a0cd-cba6c49f8936"
      },
      "execution_count": 13,
      "outputs": [
        {
          "output_type": "execute_result",
          "data": {
            "text/plain": [
              "Text(0, 0.5, 'Number of Cells')"
            ]
          },
          "metadata": {},
          "execution_count": 13
        },
        {
          "output_type": "display_data",
          "data": {
            "text/plain": [
              "<Figure size 432x288 with 1 Axes>"
            ],
            "image/png": "[encoded data removed]"
          },
          "metadata": {
            "needs_background": "light"
          }
        }
      ]
    },
    {
      "cell_type": "code",
      "source": [
        "# Creates a histogram for data2\n",
        "plt.hist(data2)\n",
        "plt.xlabel('Membrane Potential (mV)')\n",
        "plt.ylabel('Number of Cells')"
      ],
      "metadata": {
        "colab": {
          "base_uri": "https://localhost:8080/",
          "height": 296
        },
        "id": "kOFLo2fwuZ1w",
        "outputId": "da5ee05c-9ad7-4bac-d173-77d1af1e9141"
      },
      "execution_count": 14,
      "outputs": [
        {
          "output_type": "execute_result",
          "data": {
            "text/plain": [
              "Text(0, 0.5, 'Number of Cells')"
            ]
          },
          "metadata": {},
          "execution_count": 14
        },
        {
          "output_type": "display_data",
          "data": {
            "text/plain": [
              "<Figure size 432x288 with 1 Axes>"
            ],
            "image/png": "[encoded data removed]"
          },
          "metadata": {
            "needs_background": "light"
          }
        }
      ]
    },
    {
      "cell_type": "markdown",
      "source": [
        "**Description of Histograms**\n",
        "\n",
        "The histogram shows the membrane potential of different cells. Both of the group of cells have a greater amount of cells with 75mV as their membrane potential. Regardless, the group of cells from data2 has the most cells with 75mV membrane potential. The data1 cells seem to have a lower membrane potential than the data2 cells. Also, the group of cells from data2 have a greater range of membrane potentials (-80 to -60) while the gorup of cells from data1 have a smaller range (-75 to -67). \n"
      ],
      "metadata": {
        "id": "feL06A6guoiW"
      }
    },
    {
      "cell_type": "code",
      "source": [
        "# Creates variable for data 3, which is a list of data 1&2 together \n",
        "data3= data1.tolist() + data2.tolist()\n",
        "print(data3)"
      ],
      "metadata": {
        "id": "tzyv3bDQvBKQ",
        "colab": {
          "base_uri": "https://localhost:8080/"
        },
        "outputId": "72dcdec8-f308-4ca3-f197-a806f32a3ce0"
      },
      "execution_count": 17,
      "outputs": [
        {
          "output_type": "stream",
          "name": "stdout",
          "text": [
            "[-71.38330688, -72.2980217, -66.79479137, -74.54252555, -70.24399376, -69.6734333, -74.63914829, -67.73625292, -71.71485273, -74.96996377, -68.72987366, -68.35206535, -65.25019455, -63.72666232, -59.53759575, -71.21860097, -73.68536822, -74.11418152, -73.8179813, -62.90582476, -60.20892639, -74.80520283, -82.65159946, -76.16572698]\n"
          ]
        }
      ]
    },
    {
      "cell_type": "code",
      "source": [
        "# Codes last element of data 2, indexing data 3\n",
        "print(data3[-1])"
      ],
      "metadata": {
        "colab": {
          "base_uri": "https://localhost:8080/"
        },
        "id": "guTRkNVPlZLC",
        "outputId": "cc3bd3e3-989c-4bcb-d4a9-dc3b3246fe0b"
      },
      "execution_count": 20,
      "outputs": [
        {
          "output_type": "stream",
          "name": "stdout",
          "text": [
            "-76.16572698\n"
          ]
        }
      ]
    }
  ]
}