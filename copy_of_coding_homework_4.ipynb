{
  "nbformat": 4,
  "nbformat_minor": 0,
  "metadata": {
    "colab": {
      "provenance": [],
      "include_colab_link": true
    },
    "kernelspec": {
      "name": "python3",
      "display_name": "Python 3"
    },
    "language_info": {
      "name": "python"
    }
  },
  "cells": [
    {
      "cell_type": "markdown",
      "metadata": {
        "id": "view-in-github",
        "colab_type": "text"
      },
      "source": [
        "<a href=\"https://colab.research.google.com/github/AlondraGuerrero/NEUR-265/blob/main/copy_of_coding_homework_4.ipynb\" target=\"_parent\"><img src=\"https://colab.research.google.com/assets/colab-badge.svg\" alt=\"Open In Colab\"/></a>"
      ]
    },
    {
      "cell_type": "markdown",
      "source": [
        "# Coding Homework #4\n",
        "\n",
        "**Instructions**\n",
        "\n",
        "1. Make a *Markdown Cell* that contains the following information:\n",
        "- Your name (small header)\n",
        "- The name of this class (italicized)\n",
        "- The date (bolded)\n",
        "\n",
        "2. Create a *Code Cell* that imports relevant modules - specifically, <code>pandas as pd</code>, <code>matplotlib.pyplot as plt</code>, and <code>scipy.stats as stats</code>.\n",
        "\n",
        "3. For this assignment, you'll be using the <code>patch_seq_expanded.csv</code> file located in our class GitHub repo. Create a *Code Cell* that loads this file in as a <code>Pandas dataFrame</code> called <code>patch_seq</code>. \n",
        "\n",
        "4. In a new *Code Cell*, run the following line of code to get rid of empty values:\n",
        "\n",
        "<code>patch_seq['ISI'] = patch_seq['ISI'].fillna(0)</code>\n",
        "\n",
        "5. In a new *Code Cell*, using the <code>df.plot</code> method from the <code>pandas</code> module, make a bar graph that displays the value counts (how many observations) from the \"Marker\" column of your <code>patch_seq</code> variable. Label your x and y-axes.\n",
        "\n",
        "6. In a new *Code Cell*, repeat step 4, but make a pie chart instead of a bar graph.\n",
        "\n",
        "7. In a new *Code Cell*, use a <code>for</code> loop to make a scatter plot of the \"ISI\" (on the x-axis) and \"Fast_Trough\" (on the y-axis) values in your <code>patch_seq</code> dataframe. Your loop should make data points from \"Sst\" neurons <font color = 'red'>red</font>, and data points from \"Pvalb\" neurons <font color = 'blue'>blue</font>.\n",
        "\n",
        "8. In a new *Code Cell*, create a <code>function</code> called <code>patchScatter()</code> that will output the scatter plot created in step 6 when you call it. Don't forget to tell it to show your scatter plot!\n",
        "\n",
        "9. In a new *Code Cell*, return the mean, standard deviation, and range of the \"Fast_Trough\" column for \"Sst\" neurons and \"Pvalb\" neurons. You can do this with the <code>pandas</code> method <code>describe</code>, like so:\n",
        "\n",
        "<code>patch_seq.groupby('Marker')['Fast_Trough'].describe()</code>\n",
        "\n",
        "10. In a new *Markdown Cell*, describe the difference in means between \"Sst\" neurons and \"Pvalb\" neurons. Which group has a more negative undershoot following an action potential? \n",
        "\n",
        "11. In a new *Code Cell*, return the skewness of the \"Fast_Trough\" column for \"Sst\" neurons and \"Pvalb\" neurons. You can do this with the <code>pandas</code> method <code>skew</code> (follow the syntax in step 8 to apply this method to <code>patch_seq</code>).\n",
        "\n",
        "12. In a new *Markdown Cell*, interpret the results of your skewness test. Generally, values >0.5, or <-0.5, indicate a skewed distribution, while values between -0.5 and 0.5 indicate a normal distribution.\n",
        "\n",
        "13. In a new *Code Cell*, repeat step 10 for the \"ISI\" column of <code>patch_seq</code>. \n",
        "\n",
        "14. In a new *Markdown Cell*, repeat step 11 for the \"ISI\" column of <code>patch_seq</code>. \n",
        "\n",
        "15. Finally, in a new *Code Cell*, let's perform a t-test to see if our \"Fast_Trough\" and \"ISI\" values differ between \"Sst\" and \"Pvalb\" neurons. To do this for our \"Fast_Trough\" values, we should first isolate each group and make each of them into a separate variable. An example of how to do this for \"Sst\" neurons is below:\n",
        "\n",
        "<code>sst_neurons = patch_seq[patch_seq['Marker']=='Sst']</code>\n",
        "\n",
        "Use the same code to create another variable called <code>pvalb_neurons</code>. Once you've made your two variables, perform an independent-samples t-test to compare \"Fast_Trough\" values between the two groups:\n",
        "\n",
        "<code>stats.ttest_ind(sst_neurons['Fast_Trough'], pvalb_neurons['Fast_Trough'])</code>.\n",
        "\n",
        "16. In a *Markdown Cell*, describe the results of your t-test. Does the undershoot voltage significantly differ betwen the two groups?\n",
        "\n",
        "17. In a new *Code Cell*, repeat step 14 for \"ISI\". You won't need to create new <code>sst_neurons</code> and <code>pvalb_neurons</code> variables - you'll just need to run a new t-test. \n",
        "\n",
        "18. In a new *Markdown Cell*, repeat step 15 for the results of your new t-test.\n",
        "\n",
        "19. Make sure to put a <code>#</code> in each *Code Cell* to describe what it does.\n",
        "\n",
        "20. Save a copy of this notebook to your GitHub repo with the title <code>coding_homework_4.ipynb</code>.\n",
        "\n",
        "\n"
      ],
      "metadata": {
        "id": "t5mb_Iv37HhC"
      }
    },
    {
      "cell_type": "markdown",
      "source": [
        "####Alondra Guerrero \n",
        "\n",
        "*Intro to Neural Data Analysis (NEUR 265)*\n",
        "\n",
        "**Mar 22, 2023**"
      ],
      "metadata": {
        "id": "R9OTMTn5n3GK"
      }
    },
    {
      "cell_type": "code",
      "source": [
        "# Import pandas, matplotlib.pylot, scipy.stats\n",
        "import pandas as pd\n",
        "import matplotlib.pyplot as plt\n",
        "import scipy.stats as stats"
      ],
      "metadata": {
        "id": "hoDwbhGEn9M5"
      },
      "execution_count": 58,
      "outputs": []
    },
    {
      "cell_type": "code",
      "source": [
        "# Imports patch_seq data \n",
        "url = 'https://raw.githubusercontent.com/hallockh/neur_265/main/patch_seq_expanded.csv'\n",
        "patch_seq = pd.read_csv(url)\n",
        "print(patch_seq)"
      ],
      "metadata": {
        "colab": {
          "base_uri": "https://localhost:8080/"
        },
        "id": "rddBMibPoPMu",
        "outputId": "3df8e1f2-3337-41c8-d208-67a320a0f9c6"
      },
      "execution_count": 59,
      "outputs": [
        {
          "output_type": "stream",
          "name": "stdout",
          "text": [
            "           ISI  Fast_Trough Marker\n",
            "0    77.337143   -49.899998    Sst\n",
            "1    17.177895   -44.462498    Sst\n",
            "2    48.294737   -47.350002    Sst\n",
            "3     8.980000   -45.656254    Sst\n",
            "4    30.315385   -50.737499    Sst\n",
            "..         ...          ...    ...\n",
            "360  11.052333   -54.743752  Pvalb\n",
            "361   8.860360   -64.875008  Pvalb\n",
            "362   9.192897   -51.312504  Pvalb\n",
            "363  10.544731   -52.281254  Pvalb\n",
            "364  16.396364   -61.437504  Pvalb\n",
            "\n",
            "[365 rows x 3 columns]\n"
          ]
        }
      ]
    },
    {
      "cell_type": "code",
      "source": [
        "# Gets rid of empty values \n",
        "patch_seq['ISI'] = patch_seq['ISI'].fillna(0)"
      ],
      "metadata": {
        "id": "DmNzEiyRsoS-"
      },
      "execution_count": 60,
      "outputs": []
    },
    {
      "cell_type": "code",
      "source": [
        "# Makes a bar graph of value counts for Marker types \n",
        "patch_seq['Marker'].value_counts().plot(kind='bar')\n",
        "#Labels Axis \n",
        "plt.xlabel('Marker Type')\n",
        "plt.ylabel('Value Counts')"
      ],
      "metadata": {
        "colab": {
          "base_uri": "https://localhost:8080/",
          "height": 313
        },
        "id": "UQXGUYKQt-Uq",
        "outputId": "962d0829-965f-40bf-bafa-3fb63827f806"
      },
      "execution_count": 61,
      "outputs": [
        {
          "output_type": "execute_result",
          "data": {
            "text/plain": [
              "Text(0, 0.5, 'Value Counts')"
            ]
          },
          "metadata": {},
          "execution_count": 61
        },
        {
          "output_type": "display_data",
          "data": {
            "text/plain": [
              "<Figure size 432x288 with 1 Axes>"
            ],
            "image/png": "[encoded data removed]"
          },
          "metadata": {
            "needs_background": "light"
          }
        }
      ]
    },
    {
      "cell_type": "code",
      "source": [
        "# Makes a pie chart of value counts for Marker types \n",
        "patch_seq['Marker'].value_counts().plot(kind='pie')"
      ],
      "metadata": {
        "colab": {
          "base_uri": "https://localhost:8080/",
          "height": 265
        },
        "id": "BQeXFo1lxhbm",
        "outputId": "a2446f9c-7b75-41af-cf1e-b8cea94ad29d"
      },
      "execution_count": 62,
      "outputs": [
        {
          "output_type": "execute_result",
          "data": {
            "text/plain": [
              "<Axes: ylabel='Marker'>"
            ]
          },
          "metadata": {},
          "execution_count": 62
        },
        {
          "output_type": "display_data",
          "data": {
            "text/plain": [
              "<Figure size 432x288 with 1 Axes>"
            ],
            "image/png": "[encoded data removed]"
          },
          "metadata": {}
        }
      ]
    },
    {
      "cell_type": "code",
      "source": [
        "# Uses for loop to make scatter plot \n",
        "marker_type = patch_seq['Marker'].unique()\n",
        "\n",
        "fig = plt.figure()\n",
        "\n",
        "print(patch_seq.columns)\n",
        "for d_type in marker_type:  \n",
        "    df = patch_seq[patch_seq['Marker'] == d_type]\n",
        "    if d_type == 'Sst':\n",
        "      plt.scatter(df['ISI'], \n",
        "                df['Fast_Trough'],\n",
        "                label=d_type,color=\"red\")\n",
        "    elif d_type == 'Pvalb':\n",
        "      plt.scatter(df['ISI'],\n",
        "                df['Fast_Trough'],\n",
        "                label=d_type,color=\"blue\")\n",
        "      \n",
        "plt.ylabel(\"Fast_Trough\")\n",
        "plt.xlabel(\"ISI\")\n",
        "plt.legend(loc='best') \n",
        "    \n",
        "plt.show()"
      ],
      "metadata": {
        "colab": {
          "base_uri": "https://localhost:8080/",
          "height": 296
        },
        "id": "OXGQYyi5y-xG",
        "outputId": "1bbfb935-f3e4-433f-99d3-701862f06581"
      },
      "execution_count": 63,
      "outputs": [
        {
          "output_type": "stream",
          "name": "stdout",
          "text": [
            "Index(['ISI', 'Fast_Trough', 'Marker'], dtype='object')\n"
          ]
        },
        {
          "output_type": "display_data",
          "data": {
            "text/plain": [
              "<Figure size 432x288 with 1 Axes>"
            ],
            "image/png": "[encoded data removed]"
          },
          "metadata": {
            "needs_background": "light"
          }
        }
      ]
    },
    {
      "cell_type": "code",
      "source": [
        "# Create a function called patchScatter()\n",
        "def patchScatter():\n",
        "  marker_type = patch_seq['Marker'].unique()\n",
        "\n",
        "  fig = plt.figure()\n",
        "\n",
        "  print(patch_seq.columns)\n",
        "  for d_type in marker_type:  \n",
        "      df = patch_seq[patch_seq['Marker'] == d_type]\n",
        "      if d_type == 'Sst':\n",
        "        plt.scatter(df['ISI'], \n",
        "                  df['Fast_Trough'],\n",
        "                  label=d_type,color=\"red\")\n",
        "      elif d_type == 'Pvalb':\n",
        "        plt.scatter(df['ISI'],\n",
        "                  df['Fast_Trough'],\n",
        "                  label=d_type,color=\"blue\")\n",
        "        \n",
        "  plt.ylabel(\"Fast_Trough\")\n",
        "  plt.xlabel(\"ISI\")\n",
        "  plt.legend(loc='best') \n",
        "      \n",
        "  plt.show()\n",
        "patchScatter()"
      ],
      "metadata": {
        "colab": {
          "base_uri": "https://localhost:8080/",
          "height": 296
        },
        "id": "myjyVKi-8Ds9",
        "outputId": "3323583e-9c9e-4214-9dbe-39e2c22bb8af"
      },
      "execution_count": 64,
      "outputs": [
        {
          "output_type": "stream",
          "name": "stdout",
          "text": [
            "Index(['ISI', 'Fast_Trough', 'Marker'], dtype='object')\n"
          ]
        },
        {
          "output_type": "display_data",
          "data": {
            "text/plain": [
              "<Figure size 432x288 with 1 Axes>"
            ],
            "image/png": "[encoded data removed]"
          },
          "metadata": {
            "needs_background": "light"
          }
        }
      ]
    },
    {
      "cell_type": "code",
      "source": [
        "# Returns the mean, standard deviation, and range of the \"Fast_Trough\" column for \"Sst\" neurons and \"Pvalb\" neurons\n",
        "patch_seq.groupby('Marker')['Fast_Trough'].describe()"
      ],
      "metadata": {
        "colab": {
          "base_uri": "https://localhost:8080/",
          "height": 143
        },
        "id": "4L4ktKN_89if",
        "outputId": "c8b94a42-7d37-4bfa-89b6-f344351e79b4"
      },
      "execution_count": 65,
      "outputs": [
        {
          "output_type": "execute_result",
          "data": {
            "text/plain": [
              "        count       mean       std        min        25%        50%  \\\n",
              "Marker                                                                \n",
              "Pvalb   256.0 -54.548074  5.870670 -76.687508 -57.914063 -54.490629   \n",
              "Sst     109.0 -52.514968  4.958103 -64.375008 -55.931252 -52.568752   \n",
              "\n",
              "              75%        max  \n",
              "Marker                        \n",
              "Pvalb  -51.364065 -30.406252  \n",
              "Sst    -48.500000 -40.781254  "
            ],
            "text/html": [
              "\n",
              "  <div id=\"df-1a99b4c1-7ff3-4cf5-88dc-362ffc2837d7\">\n",
              "    <div class=\"colab-df-container\">\n",
              "      <div>\n",
              "<style scoped>\n",
              "    .dataframe tbody tr th:only-of-type {\n",
              "        vertical-align: middle;\n",
              "    }\n",
              "\n",
              "    .dataframe tbody tr th {\n",
              "        vertical-align: top;\n",
              "    }\n",
              "\n",
              "    .dataframe thead th {\n",
              "        text-align: right;\n",
              "    }\n",
              "</style>\n",
              "<table border=\"1\" class=\"dataframe\">\n",
              "  <thead>\n",
              "    <tr style=\"text-align: right;\">\n",
              "      <th></th>\n",
              "      <th>count</th>\n",
              "      <th>mean</th>\n",
              "      <th>std</th>\n",
              "      <th>min</th>\n",
              "      <th>25%</th>\n",
              "      <th>50%</th>\n",
              "      <th>75%</th>\n",
              "      <th>max</th>\n",
              "    </tr>\n",
              "    <tr>\n",
              "      <th>Marker</th>\n",
              "      <th></th>\n",
              "      <th></th>\n",
              "      <th></th>\n",
              "      <th></th>\n",
              "      <th></th>\n",
              "      <th></th>\n",
              "      <th></th>\n",
              "      <th></th>\n",
              "    </tr>\n",
              "  </thead>\n",
              "  <tbody>\n",
              "    <tr>\n",
              "      <th>Pvalb</th>\n",
              "      <td>256.0</td>\n",
              "      <td>-54.548074</td>\n",
              "      <td>5.870670</td>\n",
              "      <td>-76.687508</td>\n",
              "      <td>-57.914063</td>\n",
              "      <td>-54.490629</td>\n",
              "      <td>-51.364065</td>\n",
              "      <td>-30.406252</td>\n",
              "    </tr>\n",
              "    <tr>\n",
              "      <th>Sst</th>\n",
              "      <td>109.0</td>\n",
              "      <td>-52.514968</td>\n",
              "      <td>4.958103</td>\n",
              "      <td>-64.375008</td>\n",
              "      <td>-55.931252</td>\n",
              "      <td>-52.568752</td>\n",
              "      <td>-48.500000</td>\n",
              "      <td>-40.781254</td>\n",
              "    </tr>\n",
              "  </tbody>\n",
              "</table>\n",
              "</div>\n",
              "      <button class=\"colab-df-convert\" onclick=\"convertToInteractive('df-1a99b4c1-7ff3-4cf5-88dc-362ffc2837d7')\"\n",
              "              title=\"Convert this dataframe to an interactive table.\"\n",
              "              style=\"display:none;\">\n",
              "        \n",
              "  <svg xmlns=\"http://www.w3.org/2000/svg\" height=\"24px\"viewBox=\"0 0 24 24\"\n",
              "       width=\"24px\">\n",
              "    <path d=\"M0 0h24v24H0V0z\" fill=\"none\"/>\n",
              "    <path d=\"M18.56 5.44l.94 2.06.94-2.06 2.06-.94-2.06-.94-.94-2.06-.94 2.06-2.06.94zm-11 1L8.5 8.5l.94-2.06 2.06-.94-2.06-.94L8.5 2.5l-.94 2.06-2.06.94zm10 10l.94 2.06.94-2.06 2.06-.94-2.06-.94-.94-2.06-.94 2.06-2.06.94z\"/><path d=\"M17.41 7.96l-1.37-1.37c-.4-.4-.92-.59-1.43-.59-.52 0-1.04.2-1.43.59L10.3 9.45l-7.72 7.72c-.78.78-.78 2.05 0 2.83L4 21.41c.39.39.9.59 1.41.59.51 0 1.02-.2 1.41-.59l7.78-7.78 2.81-2.81c.8-.78.8-2.07 0-2.86zM5.41 20L4 18.59l7.72-7.72 1.47 1.35L5.41 20z\"/>\n",
              "  </svg>\n",
              "      </button>\n",
              "      \n",
              "  <style>\n",
              "    .colab-df-container {\n",
              "      display:flex;\n",
              "      flex-wrap:wrap;\n",
              "      gap: 12px;\n",
              "    }\n",
              "\n",
              "    .colab-df-convert {\n",
              "      background-color: #E8F0FE;\n",
              "      border: none;\n",
              "      border-radius: 50%;\n",
              "      cursor: pointer;\n",
              "      display: none;\n",
              "      fill: #1967D2;\n",
              "      height: 32px;\n",
              "      padding: 0 0 0 0;\n",
              "      width: 32px;\n",
              "    }\n",
              "\n",
              "    .colab-df-convert:hover {\n",
              "      background-color: #E2EBFA;\n",
              "      box-shadow: 0px 1px 2px rgba(60, 64, 67, 0.3), 0px 1px 3px 1px rgba(60, 64, 67, 0.15);\n",
              "      fill: #174EA6;\n",
              "    }\n",
              "\n",
              "    [theme=dark] .colab-df-convert {\n",
              "      background-color: #3B4455;\n",
              "      fill: #D2E3FC;\n",
              "    }\n",
              "\n",
              "    [theme=dark] .colab-df-convert:hover {\n",
              "      background-color: #434B5C;\n",
              "      box-shadow: 0px 1px 3px 1px rgba(0, 0, 0, 0.15);\n",
              "      filter: drop-shadow(0px 1px 2px rgba(0, 0, 0, 0.3));\n",
              "      fill: #FFFFFF;\n",
              "    }\n",
              "  </style>\n",
              "\n",
              "      <script>\n",
              "        const buttonEl =\n",
              "          document.querySelector('#df-1a99b4c1-7ff3-4cf5-88dc-362ffc2837d7 button.colab-df-convert');\n",
              "        buttonEl.style.display =\n",
              "          google.colab.kernel.accessAllowed ? 'block' : 'none';\n",
              "\n",
              "        async function convertToInteractive(key) {\n",
              "          const element = document.querySelector('#df-1a99b4c1-7ff3-4cf5-88dc-362ffc2837d7');\n",
              "          const dataTable =\n",
              "            await google.colab.kernel.invokeFunction('convertToInteractive',\n",
              "                                                     [key], {});\n",
              "          if (!dataTable) return;\n",
              "\n",
              "          const docLinkHtml = 'Like what you see? Visit the ' +\n",
              "            '<a target=\"_blank\" href=https://colab.research.google.com/notebooks/data_table.ipynb>data table notebook</a>'\n",
              "            + ' to learn more about interactive tables.';\n",
              "          element.innerHTML = '';\n",
              "          dataTable['output_type'] = 'display_data';\n",
              "          await google.colab.output.renderOutput(dataTable, element);\n",
              "          const docLink = document.createElement('div');\n",
              "          docLink.innerHTML = docLinkHtml;\n",
              "          element.appendChild(docLink);\n",
              "        }\n",
              "      </script>\n",
              "    </div>\n",
              "  </div>\n",
              "  "
            ]
          },
          "metadata": {},
          "execution_count": 65
        }
      ]
    },
    {
      "cell_type": "markdown",
      "source": [
        "The mean of Sst was -52.5146 while the mean of Pvalb was -54.5480 meaning the fast trough was more negative overall in Pvalb. The group with the most negative undershoot following an action potential was Pvalb. "
      ],
      "metadata": {
        "id": "DMOW0pNV9j_p"
      }
    },
    {
      "cell_type": "code",
      "source": [
        "# Return the skewness of the \"Fast_Trough\" column for \"Sst\" neurons and \"Pvalb\" neurons.\n",
        "patch_seq.groupby('Marker')['Fast_Trough'].skew()"
      ],
      "metadata": {
        "colab": {
          "base_uri": "https://localhost:8080/"
        },
        "id": "fu4Q_l1MCl5h",
        "outputId": "2779b454-e537-4272-c012-a5ac65ffd9c0"
      },
      "execution_count": 66,
      "outputs": [
        {
          "output_type": "execute_result",
          "data": {
            "text/plain": [
              "Marker\n",
              "Pvalb    0.19536\n",
              "Sst      0.00125\n",
              "Name: Fast_Trough, dtype: float64"
            ]
          },
          "metadata": {},
          "execution_count": 66
        }
      ]
    },
    {
      "cell_type": "markdown",
      "source": [
        "\n",
        "The skew value for Pvalb was 0.19536 meaning that it is not skewed, but instead a normal distribution. The skew value fo Sst was 0.00125 meaning that it is a normal distribution as well. "
      ],
      "metadata": {
        "id": "OQyMKCL1E2Ia"
      }
    },
    {
      "cell_type": "code",
      "source": [
        "# Return the skewness of the \"ISI\" column for \"Sst\" neurons and \"Pvalb\" neurons.\n",
        "patch_seq.groupby('Marker')['ISI'].skew()"
      ],
      "metadata": {
        "colab": {
          "base_uri": "https://localhost:8080/"
        },
        "id": "HawNnsCKFlts",
        "outputId": "077cc115-b3e3-43e5-94aa-6134facad2d0"
      },
      "execution_count": 67,
      "outputs": [
        {
          "output_type": "execute_result",
          "data": {
            "text/plain": [
              "Marker\n",
              "Pvalb    5.200362\n",
              "Sst      1.857850\n",
              "Name: ISI, dtype: float64"
            ]
          },
          "metadata": {},
          "execution_count": 67
        }
      ]
    },
    {
      "cell_type": "markdown",
      "source": [
        "The skew value for Pvalb was 5.59638, and since it is greater than 0.5, that means that it is a skewed distribution. For Sst the skew value was 1.857850. and since it is also greater than 0.5, it means it is also a skewed distribution. "
      ],
      "metadata": {
        "id": "KJxVYaWJG5kh"
      }
    },
    {
      "cell_type": "code",
      "source": [
        "# Performs a t-test to see if our \"Fast_Trough\" values differ between \"Sst\" and \"Pvalb\" neurons\n",
        "sst_neurons = patch_seq[patch_seq['Marker']=='Sst']\n",
        "pvalb_neurons = patch_seq[patch_seq['Marker']=='Pvalb']\n",
        "stats.ttest_ind(sst_neurons['Fast_Trough'], pvalb_neurons['Fast_Trough'])"
      ],
      "metadata": {
        "colab": {
          "base_uri": "https://localhost:8080/"
        },
        "id": "sd0A2GFVHuxa",
        "outputId": "01ca33e1-6191-4bff-e482-1a3864e59be8"
      },
      "execution_count": 68,
      "outputs": [
        {
          "output_type": "execute_result",
          "data": {
            "text/plain": [
              "Ttest_indResult(statistic=3.1660773376899147, pvalue=0.0016757984214133585)"
            ]
          },
          "metadata": {},
          "execution_count": 68
        }
      ]
    },
    {
      "cell_type": "markdown",
      "source": [
        "The pvalue was 0.00167, and because p is less than 0.05, then that means that the undershoot voltage significantly differed between the two groups. "
      ],
      "metadata": {
        "id": "mn6ovJntLfY3"
      }
    },
    {
      "cell_type": "code",
      "source": [
        "# Performs a t-test to see if our \"ISI\" values differ between \"Sst\" and \"Pvalb\" neurons\n",
        "stats.ttest_ind(sst_neurons['ISI'], pvalb_neurons['ISI'])"
      ],
      "metadata": {
        "colab": {
          "base_uri": "https://localhost:8080/"
        },
        "id": "wsx2xAwkL6gT",
        "outputId": "7ae362ba-d8ad-415c-ea2b-849190ba305a"
      },
      "execution_count": 70,
      "outputs": [
        {
          "output_type": "execute_result",
          "data": {
            "text/plain": [
              "Ttest_indResult(statistic=15.004913280678535, pvalue=6.160372584319923e-40)"
            ]
          },
          "metadata": {},
          "execution_count": 70
        }
      ]
    },
    {
      "cell_type": "markdown",
      "source": [
        "The pvalue was 6.160372e-40, which is way smaller than 0.05, thus it means that the values differed significanly between the two groups. "
      ],
      "metadata": {
        "id": "FhaCocDFNANe"
      }
    }
  ]
}