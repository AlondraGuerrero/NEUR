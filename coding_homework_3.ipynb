{
  "nbformat": 4,
  "nbformat_minor": 0,
  "metadata": {
    "colab": {
      "provenance": [],
      "include_colab_link": true
    },
    "kernelspec": {
      "name": "python3",
      "display_name": "Python 3"
    },
    "language_info": {
      "name": "python"
    }
  },
  "cells": [
    {
      "cell_type": "markdown",
      "metadata": {
        "id": "view-in-github",
        "colab_type": "text"
      },
      "source": [
        "<a href=\"https://colab.research.google.com/github/AlondraGuerrero/NEUR-265/blob/main/coding_homework_3.ipynb\" target=\"_parent\"><img src=\"https://colab.research.google.com/assets/colab-badge.svg\" alt=\"Open In Colab\"/></a>"
      ]
    },
    {
      "cell_type": "markdown",
      "source": [
        "# Coding Homework #3\n",
        "\n",
        "**Instructions**\n",
        "\n",
        "1. Make a *Markdown Cell* that contains the following information:\n",
        "- Your name (small header)\n",
        "- The name of this class (italicized)\n",
        "- The date (bolded)\n",
        "\n",
        "2. Make a *Code Cell* that imports <code>numpy</code> as <code>np</code>, <code>matplotlib.pyplot</code> as <code>plt</code>, and <code>scipy.stats</code> as <code>stats</code>.\n",
        "\n",
        "3. Make a *Code Cell* that imports your <code>v_rest1.csv</code> and <code>v_rest2.csv</code> variables as <code>numpy</code> arrays called <code>v_rest1</code> and <code>v_rest2</code> respectively.\n",
        "\n",
        "4. Make a *Code Cell* that does the following:\n",
        "  \n",
        "  a. Finds the means of <code>v_rest1</code> and <code>v_rest2</code>.\n",
        "  \n",
        "  b. Performs a t-test to test the null hypothesis that the means of <code>v_rest1</code> and <code>v_rest2</code> come from different distributions.\n",
        "\n",
        "  c. Plots a histogram of <code>v_rest1</code> in one subplot, and a histogram of <code>v_rest2</code> in another subplot if the p-value of the t-test is > 0.05. You can make two subplots using the syntax <code>fig, ax = plt.subplots(1,1)</code>.\n",
        "\n",
        "  d. Labels the y-axis and x-axis of your histograms (recall that <code>ax.ylabel</code> and <code>ax.xlabel</code> are the methods that let you accomplish this).\n",
        "\n",
        "5. Make a *Code Cell* that defines a function called <code>vrestHist()</code>. This function should execute the code in step 4 when called. Remember to tell python that you want the function to show your plots when you call it!\n",
        "\n",
        "6. Make a *Code Cell* that calls <code>vrestHist()</code>.\n",
        "\n",
        "7. Make a *Code Cell* that does the following:\n",
        "\n",
        "    a. Loops through each column of <code>v_rest1</code> and <code>v_rest2</code> and makes a scatter plot with <code>v_rest1</code> on the x-axis and <code>v_rest2</code> on the y-axis. \n",
        "\n",
        "    b. Each iteration of your loop should plot a different point on the scatter plot. At the end of your loop, you should have only one scatter plot with number of data points equal to the length of <code>v_rest1</code> and <code>v_rest2</code>.\n",
        "\n",
        "    c. Your loop should plot a <font color = 'red'>red</font> dot if *both* values in <code>v_rest1</code> and <code>v_rest2</code> are greater than -60, a <font color = 'green'>green</font> dot if values in <code>v_rest1</code> are greater than -60, but values in <code>v_rest2</code> are less than -60, and a <font color = 'blue'>blue</font> dot if *both* values in <code>v_rest1</code> and <code>v_rest2</code> are less than -60. \n",
        "\n",
        "    d. Labels your y-axis and your x-axis (this code should be outside of your loop).\n",
        "\n",
        "8. Make a *Code Cell* that defines a function called <code>vrestScatter()</code>. This function should execute the code in step 7 when called. Remember to tell python that you want the function to show your plot when you call it!\n",
        "\n",
        "9. Save a copy of this notebook to your GitHub repo with the title \"coding_homework_3.ipynb\"."
      ],
      "metadata": {
        "id": "zbzMCJlMN3ph"
      }
    },
    {
      "cell_type": "markdown",
      "source": [
        "####Alondra Guerrero \n",
        "\n",
        "*Intro to Neural Data Analysis (NEUR 265)*\n",
        "\n",
        "**Feb 28, 2023**"
      ],
      "metadata": {
        "id": "9dSBh9fAFTCx"
      }
    },
    {
      "cell_type": "code",
      "source": [
        "# Imports numpy, matplotlib.pyplot, and scipy.stats\n",
        "import numpy as np\n",
        "import matplotlib.pyplot as plt\n",
        "import scipy.stats as stats"
      ],
      "metadata": {
        "id": "j-GXl6MdFVk1"
      },
      "execution_count": null,
      "outputs": []
    },
    {
      "cell_type": "code",
      "source": [
        "# Imports your v_rest1.csv and v_rest2.csv files as numpy arrays\n",
        "url1 = 'https://raw.githubusercontent.com/AlondraGuerrero/NEUR-265/main/vrest_1.csv'\n",
        "v_rest1 = np.loadtxt(url1)\n",
        "url2 = 'https://raw.githubusercontent.com/AlondraGuerrero/NEUR-265/main/vrest_2.csv'\n",
        "v_rest2 = np.loadtxt(url2)"
      ],
      "metadata": {
        "id": "BFnQMZcEF1lj"
      },
      "execution_count": null,
      "outputs": []
    },
    {
      "cell_type": "code",
      "source": [
        "# Finds the means of v_rest1 and v_rest2\n",
        "mean_1 = v_rest1.mean()\n",
        "mean_2 = v_rest2.mean()\n",
        "print(mean_1)\n",
        "print(mean_2)\n",
        "\n",
        "# Performs a t-test to test the null hypothesis that the means of v_rest1 and v_rest2 come from the same distribution \n",
        "stats.ttest_ind(v_rest1,v_rest2)\n",
        "\n",
        "# Plots a histogram of v_rest1 in one subplot, and a histogram of v_rest2 in another subplot if the p-value of the t-test is > 0.05.\n",
        "stat,p = stats.ttest_ind(v_rest1,v_rest2)\n",
        "\n",
        "fig, ax = plt.subplots(2)\n",
        "\n",
        "if p > .05:\n",
        "  ax[0].hist(v_rest1)\n",
        "  ax[1].hist(v_rest2)\n",
        "\n",
        "# Labels the y-axis and x-axis of histograms\n",
        "  ax[0].set_ylabel('Number of Cells')\n",
        "  ax[0].set_xlabel('Membrane Potential')\n",
        "  ax[1].set_ylabel('Number of Cells')\n",
        "  ax[1].set_xlabel('Membrane Potential')\n",
        "  \n"
      ],
      "metadata": {
        "colab": {
          "base_uri": "https://localhost:8080/",
          "height": 314
        },
        "id": "5leklt5IGJLo",
        "outputId": "b7043420-ee16-4c1e-d954-15f0437dd2c1"
      },
      "execution_count": null,
      "outputs": [
        {
          "output_type": "stream",
          "name": "stdout",
          "text": [
            "-70.79222768230768\n",
            "-68.71133180461538\n"
          ]
        },
        {
          "output_type": "display_data",
          "data": {
            "text/plain": [
              "<Figure size 432x288 with 2 Axes>"
            ],
            "image/png": "[encoded data removed]"
          },
          "metadata": {
            "needs_background": "light"
          }
        }
      ]
    },
    {
      "cell_type": "code",
      "source": [
        "# Defines a function called vrestHist()\n",
        "def vrestHist():\n",
        "  mean_1 = v_rest1.mean()\n",
        "  mean_2 = v_rest2.mean()\n",
        "  print(mean_1)\n",
        "  print(mean_2)\n",
        "  stats.ttest_ind(v_rest1,v_rest2)\n",
        "  stat,p = stats.ttest_ind(v_rest1,v_rest2)\n",
        "  fig, ax = plt.subplots(2)\n",
        "  if p > .05:\n",
        "   ax[0].hist(v_rest1)\n",
        "   ax[1].hist(v_rest2)\n",
        "  ax[0].set_ylabel('Number of Cells')\n",
        "  ax[0].set_xlabel('Membrane Potential')\n",
        "  ax[1].set_ylabel('Number of Cells')\n",
        "  ax[1].set_xlabel('Membrane Potential')\n",
        "vrestHist()"
      ],
      "metadata": {
        "id": "lPeBZRnVQIXO",
        "colab": {
          "base_uri": "https://localhost:8080/",
          "height": 314
        },
        "outputId": "752c2e06-da62-44b5-9a46-6adc3807d028"
      },
      "execution_count": 91,
      "outputs": [
        {
          "output_type": "stream",
          "name": "stdout",
          "text": [
            "-70.79222768230768\n",
            "-68.71133180461538\n"
          ]
        },
        {
          "output_type": "display_data",
          "data": {
            "text/plain": [
              "<Figure size 432x288 with 2 Axes>"
            ],
            "image/png": "[encoded data removed]"
          },
          "metadata": {
            "needs_background": "light"
          }
        }
      ]
    },
    {
      "cell_type": "code",
      "source": [
        "# Calls vrestHist()\n",
        "vrestHist()"
      ],
      "metadata": {
        "colab": {
          "base_uri": "https://localhost:8080/",
          "height": 314
        },
        "id": "Gb98dT19BuWU",
        "outputId": "616a9f15-2f29-4abf-da84-566c3bc083db"
      },
      "execution_count": 100,
      "outputs": [
        {
          "output_type": "stream",
          "name": "stdout",
          "text": [
            "-70.79222768230768\n",
            "-68.71133180461538\n"
          ]
        },
        {
          "output_type": "display_data",
          "data": {
            "text/plain": [
              "<Figure size 432x288 with 2 Axes>"
            ],
            "image/png": "[encoded data removed]"
          },
          "metadata": {
            "needs_background": "light"
          }
        }
      ]
    },
    {
      "cell_type": "code",
      "source": [
        "# Loops through each column of v_rest1 and v_rest2 and makes a scatter plot with v_rest1 on the x-axis and v_rest2 on the y-axis\n",
        "for i in range(len(v_rest1)):\n",
        "# Different commands for values of the plot (specific command, specific color)\n",
        "  if v_rest1[i] > -60 and v_rest2[i] > -60:\n",
        "    plt.scatter(v_rest1[i],v_rest2[i], color = \"red\")\n",
        "  elif v_rest1[i] > -60 and v_rest2[i] < -60:\n",
        "    plt.scatter(v_rest1[i],v_rest2[i], color = \"green\")\n",
        "  elif v_rest1[i] < -60 and v_rest2[i] < -60:\n",
        "    plt.scatter(v_rest1[i],v_rest2[i], color = \"blue\")\n",
        "  #Possible command to use, for the two points that the previous commands don't apply to \n",
        "  #elif v_rest1[i] < -60 and v_rest2[i] > -60:\n",
        "    #plt.scatter(v_rest1[i],v_rest2[i], color = \"orange\")\n",
        "\n",
        "plt.xlabel('v_rest1')\n",
        "plt.ylabel('v_rest2')\n"
      ],
      "metadata": {
        "id": "piH25cXZ5jp8",
        "colab": {
          "base_uri": "https://localhost:8080/",
          "height": 297
        },
        "outputId": "f41fede5-74f5-4261-9ff3-ed9f083d7871"
      },
      "execution_count": 99,
      "outputs": [
        {
          "output_type": "execute_result",
          "data": {
            "text/plain": [
              "Text(0, 0.5, 'v_rest2')"
            ]
          },
          "metadata": {},
          "execution_count": 99
        },
        {
          "output_type": "display_data",
          "data": {
            "text/plain": [
              "<Figure size 432x288 with 1 Axes>"
            ],
            "image/png": "[encoded data removed]"
          },
          "metadata": {
            "needs_background": "light"
          }
        }
      ]
    },
    {
      "cell_type": "code",
      "source": [
        "# Defines vrestScatter()\n",
        "def vrestScatter():\n",
        "  for i in range(len(v_rest1)):\n",
        "    if v_rest1[i] > -60 and v_rest2[i] > -60:\n",
        "      plt.scatter(v_rest1[i],v_rest2[i], color = \"red\")\n",
        "    elif v_rest1[i] > -60 and v_rest2[i] < -60:\n",
        "      plt.scatter(v_rest1[i],v_rest2[i], color = \"green\")\n",
        "    elif v_rest1[i] < -60 and v_rest2[i] < -60:\n",
        "      plt.scatter(v_rest1[i],v_rest2[i], color = \"blue\")\n",
        "  plt.xlabel('v_rest1')\n",
        "  plt.ylabel('v_rest2')\n",
        "vrestScatter()\n",
        "  "
      ],
      "metadata": {
        "colab": {
          "base_uri": "https://localhost:8080/",
          "height": 280
        },
        "id": "kZn6uEPUAzlE",
        "outputId": "ba5879da-03c3-42d5-9987-3301f6df2257"
      },
      "execution_count": 98,
      "outputs": [
        {
          "output_type": "display_data",
          "data": {
            "text/plain": [
              "<Figure size 432x288 with 1 Axes>"
            ],
            "image/png": "[encoded data removed]"
          },
          "metadata": {
            "needs_background": "light"
          }
        }
      ]
    }
  ]
}