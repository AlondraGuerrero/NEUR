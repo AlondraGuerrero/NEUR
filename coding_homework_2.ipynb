{
  "nbformat": 4,
  "nbformat_minor": 0,
  "metadata": {
    "colab": {
      "provenance": [],
      "include_colab_link": true
    },
    "kernelspec": {
      "name": "python3",
      "display_name": "Python 3"
    },
    "language_info": {
      "name": "python"
    }
  },
  "cells": [
    {
      "cell_type": "markdown",
      "metadata": {
        "id": "view-in-github",
        "colab_type": "text"
      },
      "source": [
        "<a href=\"https://colab.research.google.com/github/AlondraGuerrero/NEUR-265/blob/main/coding_homework_2.ipynb\" target=\"_parent\"><img src=\"https://colab.research.google.com/assets/colab-badge.svg\" alt=\"Open In Colab\"/></a>"
      ]
    },
    {
      "cell_type": "markdown",
      "source": [
        "# Coding Homework #2\n",
        "\n",
        "**Instructions:**\n",
        "\n",
        "1. Make a *Markdown Cell* that contains the following information:\n",
        "- Your name (small header)\n",
        "- The name of this class (italicized)\n",
        "- The date (bolded)\n",
        "\n",
        "2. Make a *Code Cell* that imports <code>numpy</code> as <code>np</code>, <code>matplotlib.pyplot</code> as <code>plt</code>, <code>statistics</code> as <code>st</code>.\n",
        "\n",
        "3. Make a *Code Cell* that imports your <code>v_rest1.csv</code> and <code>v_rest2.csv</code> files as <code>numpy</code> arrays called <code>v_rest1</code> and <code>v_rest2</code> respectively. You're used to doing this with the <code>pd.read_csv</code> function for <code>pandas</code>, but can accomplish the same thing using the <code>np.loadtxt</code> function for <code>numpy</code>.\n",
        "\n",
        "4. Make a *Code Cell* that concatenates <code>v_rest1</code> and <code>v_rest2</code> into a matrix with 2 rows and 13 columns named <code>v_rest</code>.\n",
        "\n",
        "5. Make a *Code Cell* that prints the <code>size</code> of <code>v_rest</code>.\n",
        "\n",
        "6. Make a *Code Cell* that returns the first row of <code>v_rest</code>.\n",
        "\n",
        "7. Make a *Code Cell* that returns the sum of the values in the third column of <code>v_rest</code>. You can accomplish this by using <code>v_rest[].sum()</code>, with your index inside of the brackets. As an example, if I wanted to return the sum of the first row of <code>v_rest</code>, I could use <code>v_rest[0].sum()</code> to get my answer.\n",
        "\n",
        "8. Make a *Code Cell* that returns the second-to-last value in the second row of <code>v_rest</code> (use negative indexing for the column value).\n",
        "\n",
        "9. Create a *Code Cell* that makes a histogram of the values in the first row of <code>v_rest</code> (you can do this by using the <code>plt.hist()</code> function). Label your axes.\n",
        "\n",
        "10. Create a *Code Cell* that takes the mean of the values in the first row of <code>v_rest</code>, and assigns the mean to a variable called <code>v_rest_mean_1</code>. Do the same thing for the second row of <code>v_rest</code>, and assign the mean value of the second row to a variable called <code>v_rest_mean_2</code>. You can get the means by using the <code>st.mean()</code> function (remember to put what you want the mean *of* inside the parentheses of the function).\n",
        "\n",
        "11. Create a *Markdown Cell* that describes the difference in means between the two rows. Which one is bigger?\n",
        "\n",
        "12. How can we test whether the difference in means is *meaningful* (statistically significant)? When we're comparing two means, we can use a t-test (assuming the data are normally distributed). To use a t-test on our data, we will first need to import the <code>scipy</code> package. Create a new *Code Cell* that runs the following:\n",
        "\n",
        "<code>\n",
        "import scipy.stats as stats\n",
        "</code>\n",
        "\n",
        "13. Now, we can perform a t-test on the two rows of <code>v_rest</code>. To do this, create a new *Code Cell* that uses the <code>stats.ttest_ind()</code> function - for example:\n",
        "\n",
        "<code>\n",
        "stats.ttest_ind(row1, row2)\n",
        "</code>\n",
        "\n",
        "Replace <code>row1</code> and <code>row2</code> in this case with the first and second rows, respectively, of <code>v_rest</code>.\n",
        "\n",
        "14. Make a *Markdown Cell* that describes the results of your t-test. You should have <code>statistic</code> variable and a <code>pvalue</code> variable. The way to interpret your p-value is as a probability - specifically, the probability that the mean of one distribution could be found in the second distribution. Typically, results are considered to be \"statistically significant\" if the probability is lower than 5% - or 0.05. What is your p-value? Based on this p-value, do you think it is likely that the means are significantly different, or do you think it is likely that they are not?\n",
        "\n",
        "15. Make sure to add at least one line with a <code>#</code> in front of it to each *Code Cell* to describe what each cell does.\n",
        "\n",
        "16. Save a copy of this notebook to your GitHub repo with the title \"coding_homework_2.ipynb\"."
      ],
      "metadata": {
        "id": "CXEcCBSA_prs"
      }
    },
    {
      "cell_type": "markdown",
      "source": [
        "####Alondra Guerrero \n",
        "\n",
        "*Intro to Neural Data Analysis (NEUR 265)*\n",
        "\n",
        "**Feb 22, 2023**"
      ],
      "metadata": {
        "id": "g90D09KbtPam"
      }
    },
    {
      "cell_type": "code",
      "source": [
        "# Import Numby, Matplot, and Statistics\n",
        "import numpy as np\n",
        "import matplotlib.pyplot as plt\n",
        "import statistics as st "
      ],
      "metadata": {
        "id": "DiUWtci8tkMB"
      },
      "execution_count": null,
      "outputs": []
    },
    {
      "cell_type": "code",
      "source": [
        "# Imports your v_rest1.csv and v_rest2.csv files as numpy arrays\n",
        "url1 = 'https://raw.githubusercontent.com/AlondraGuerrero/NEUR-265/main/vrest_1.csv'\n",
        "v_rest1 = np.loadtxt(url1)\n",
        "url2 = 'https://raw.githubusercontent.com/AlondraGuerrero/NEUR-265/main/vrest_2.csv'\n",
        "v_rest2 = np.loadtxt(url2)"
      ],
      "metadata": {
        "id": "sdW6z2uj4D3y"
      },
      "execution_count": null,
      "outputs": []
    },
    {
      "cell_type": "code",
      "source": [
        "# Concatenates v_rest1 and v_rest2 into a matrix with 2 rows and 13 columns named v_rest\n",
        "v_rest = np.vstack((v_rest1,v_rest2))\n"
      ],
      "metadata": {
        "id": "3ZLx9GR882Pi"
      },
      "execution_count": null,
      "outputs": []
    },
    {
      "cell_type": "code",
      "source": [
        "# Prints the size of v_rest\n",
        "v_rest.size"
      ],
      "metadata": {
        "colab": {
          "base_uri": "https://localhost:8080/"
        },
        "id": "rI3CY3HOFj3S",
        "outputId": "e258ad39-f7ef-46e6-8892-3a114ca35212"
      },
      "execution_count": null,
      "outputs": [
        {
          "output_type": "execute_result",
          "data": {
            "text/plain": [
              "26"
            ]
          },
          "metadata": {},
          "execution_count": 4
        }
      ]
    },
    {
      "cell_type": "code",
      "source": [
        "# Prints first row\n",
        "print(v_rest[0])"
      ],
      "metadata": {
        "id": "rEka75rgGPMY",
        "colab": {
          "base_uri": "https://localhost:8080/"
        },
        "outputId": "09fb01e2-95d4-4e0a-a3e5-b50bf3a74f0e"
      },
      "execution_count": null,
      "outputs": [
        {
          "output_type": "stream",
          "name": "stdout",
          "text": [
            "[-69.22073059 -71.38330688 -72.2980217  -66.79479137 -74.54252555\n",
            " -70.24399376 -69.6734333  -74.63914829 -67.73625292 -71.71485273\n",
            " -74.96996377 -68.72987366 -68.35206535]\n"
          ]
        }
      ]
    },
    {
      "cell_type": "code",
      "source": [
        "# Prints sum of the values in the third column of v_rest\n",
        "v_rest[:,2].sum()"
      ],
      "metadata": {
        "id": "o3ivwxMZGuKN",
        "colab": {
          "base_uri": "https://localhost:8080/"
        },
        "outputId": "f5246194-c589-45c2-d3ee-7633ee199a4f"
      },
      "execution_count": null,
      "outputs": [
        {
          "output_type": "execute_result",
          "data": {
            "text/plain": [
              "-136.02468402"
            ]
          },
          "metadata": {},
          "execution_count": 6
        }
      ]
    },
    {
      "cell_type": "code",
      "source": [
        "# second-to-last value in the second row \n",
        "v_rest[1,-2]"
      ],
      "metadata": {
        "colab": {
          "base_uri": "https://localhost:8080/"
        },
        "id": "7vXFk_ZXltl_",
        "outputId": "79060b26-f959-4b4b-f97e-9687e10ec453"
      },
      "execution_count": null,
      "outputs": [
        {
          "output_type": "execute_result",
          "data": {
            "text/plain": [
              "-82.65159946"
            ]
          },
          "metadata": {},
          "execution_count": 9
        }
      ]
    },
    {
      "cell_type": "code",
      "source": [
        "# Histogram of the values in the first row of v_rest\n",
        "plt.hist(v_rest[0])\n",
        "\n",
        "plt.xlabel('Membrane Potential (mV)')\n",
        "plt.ylabel('Number of Cells')"
      ],
      "metadata": {
        "colab": {
          "base_uri": "https://localhost:8080/",
          "height": 296
        },
        "id": "OK-lZHjHsvRX",
        "outputId": "b206f368-bba0-4495-ddb5-89006e509060"
      },
      "execution_count": null,
      "outputs": [
        {
          "output_type": "execute_result",
          "data": {
            "text/plain": [
              "Text(0, 0.5, 'Number of Cells')"
            ]
          },
          "metadata": {},
          "execution_count": 10
        },
        {
          "output_type": "display_data",
          "data": {
            "text/plain": [
              "<Figure size 432x288 with 1 Axes>"
            ],
            "image/png": "[encoded data removed]"
          },
          "metadata": {
            "needs_background": "light"
          }
        }
      ]
    },
    {
      "cell_type": "code",
      "source": [
        "# Takes the mean of the values in the first and second row of v_rest\n",
        "v_rest_mean_1 = st.mean(v_rest[0])\n",
        "v_rest_mean_2 = st.mean(v_rest[1])\n",
        "print(v_rest_mean_1)\n",
        "print(v_rest_mean_2)"
      ],
      "metadata": {
        "colab": {
          "base_uri": "https://localhost:8080/"
        },
        "id": "X0Fdn3swuZVq",
        "outputId": "cdc23417-bef8-45fa-bd6f-f26466ac4947"
      },
      "execution_count": null,
      "outputs": [
        {
          "output_type": "stream",
          "name": "stdout",
          "text": [
            "-70.7922276823077\n",
            "-68.71133180461538\n"
          ]
        }
      ]
    },
    {
      "cell_type": "markdown",
      "source": [
        "##Difference in Means\n",
        "\n",
        "The mean of the second row is -68.71 while the first row has a mean of -70.71. The mean of the second row is bigger since it is closer ot 0. "
      ],
      "metadata": {
        "id": "dxSuR7ievXy2"
      }
    },
    {
      "cell_type": "code",
      "source": [
        "# Import the scipy package to use a t-test on our data\n",
        "import scipy.stats as stats"
      ],
      "metadata": {
        "id": "Ut5VIMLFwPF_"
      },
      "execution_count": null,
      "outputs": []
    },
    {
      "cell_type": "code",
      "source": [
        "# Performs a t-test on the two rows of v_rest\n",
        "stats.ttest_ind(v_rest[0],v_rest[1])"
      ],
      "metadata": {
        "colab": {
          "base_uri": "https://localhost:8080/"
        },
        "id": "tt8omGMJSaoy",
        "outputId": "5327caf2-1717-44f5-9e61-f2cba4c7f578"
      },
      "execution_count": null,
      "outputs": [
        {
          "output_type": "execute_result",
          "data": {
            "text/plain": [
              "Ttest_indResult(statistic=-0.8794921967789362, pvalue=0.38785596577101755)"
            ]
          },
          "metadata": {},
          "execution_count": 18
        }
      ]
    },
    {
      "cell_type": "markdown",
      "source": [
        "##Statistic Variable and P-Value\n",
        "The p-value is 0.3878 and because p > than 0.05, it means that it is not statistically significant. The statistic value is -0.8794"
      ],
      "metadata": {
        "id": "RkcztO45UB-1"
      }
    }
  ]
}